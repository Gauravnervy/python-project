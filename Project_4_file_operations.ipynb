{
 "cells": [
  {
   "cell_type": "code",
   "execution_count": null,
   "id": "7bb8ec24",
   "metadata": {},
   "outputs": [],
   "source": []
  },
  {
   "cell_type": "markdown",
   "id": "4e5cbe4b",
   "metadata": {},
   "source": [
    "## 1. READ THE FILE 'FRUITS_INPUT.TXT' AND PRINT ITS CONTENT \n"
   ]
  },
  {
   "cell_type": "code",
   "execution_count": 55,
   "id": "0c1bc8eb",
   "metadata": {},
   "outputs": [],
   "source": [
    "f = open(r\"C:\\Users\\Admin\\FRUITS_INPUT.TXT\",\"r\")\n"
   ]
  },
  {
   "cell_type": "code",
   "execution_count": 56,
   "id": "62e7fda2",
   "metadata": {},
   "outputs": [
    {
     "name": "stdout",
     "output_type": "stream",
     "text": [
      "['Here is the list of fruits: \\n', '\\n', 'Start of List\\n', '\\n', 'AÃ§aÃ­\\n', 'Apple\\n', 'Akee\\n', 'Apricot\\n', 'Avocado\\n', 'Banana\\n', 'Bilberry\\n', 'Blackberry\\n', 'Blackcurrant\\n', \n",
      "'Black sapote\\n', 'Blueberry\\n', 'Boysenberry\\n', \"Buddha's hand (fingered citron)\\n\", 'Crab apples\\n', 'Currant\\n', 'Cherry\\n', 'Cherimoya (Custard Apple)\\n', 'Chico fruit\\n', \n",
      "'Cloudberry\\n', 'Coconut\\n', 'Cranberry\\n', 'Cucumber\\n', 'Damson\\n', '\\n', '\\n', 'Date\\n', 'Dragonfruit (or Pitaya)\\n', 'Durian\\n', 'Elderberry\\n', 'Feijoa\\n', 'Fig\\n', 'Goji berry\\n',\n",
      " 'Gooseberry\\n', 'Grape\\n', '\\n', '\\n', 'Raisin\\n', 'Grapefruit\\n', 'Guava\\n', 'Honeyberry\\n', 'Huckleberry\\n', 'Jabuticaba\\n', 'Jackfruit\\n', 'Jambul\\n', 'Japanese plum\\n', 'Jostaberry\\n',\n",
      " '\\n', '!\\n', '\\n', 'Jujube\\n', 'Juniper berry\\n', 'Kiwano (horned melon)\\n', 'Kiwifruit\\n', 'Kumquat\\n', '\\n', '%\\n', '\\n', 'Lemon\\n', 'Lime\\n', 'Loquat\\n', 'Longan\\n', 'Lychee\\n', \n",
      "'Mango\\n', 'Mangosteen\\n', 'Marionberry\\n', 'Melon\\n', 'Cantaloupe\\n', 'Honeydew\\n', 'Watermelon\\n', 'Miracle fruit\\n', 'Mulberry\\n', 'Nectarine\\n', 'Nance\\n', 'Olive\\n', 'Orange\\n', \n",
      "'Blood orange\\n', 'Clementine\\n', 'Mandarine\\n', 'Tangerine\\n', 'Papaya\\n', 'Passionfruit\\n', 'Peach\\n', 'Pear\\n', 'Persimmon\\n', 'Plantain\\n', 'Plum\\n', 'Prune (dried plum)\\n', \n",
      "'Pineapple\\n', 'Pineberry\\n', 'Plumcot (or Pluot)\\n', 'Pomegranate\\n', 'Pomelo\\n', 'Purple mangosteen\\n', 'Quince\\n', 'Raspberry\\n', 'Salmonberry\\n', 'Rambutan (or Mamin Chino)\\n', \n",
      "'Redcurrant\\n', 'Salal berry\\n', 'Salak\\n', 'Satsuma\\n', 'Soursop\\n', 'Star apple\\n', 'Star fruit\\n', 'Strawberry\\n', 'Surinam cherry\\n', 'Tamarillo\\n', 'Tamarind\\n', 'Ugli fruit\\n',\n",
      " 'White currant\\n', 'White sapote\\n', 'Yuzu\\n', '\\n']\n"
     ]
    }
   ],
   "source": [
    "\n",
    "print(f.read())"
   ]
  },
  {
   "cell_type": "code",
   "execution_count": 57,
   "id": "fb61eb82",
   "metadata": {},
   "outputs": [],
   "source": [
    "f.close()"
   ]
  },
  {
   "cell_type": "markdown",
   "id": "8af8e141",
   "metadata": {},
   "source": [
    "## 2. READ THE FILE 'FRUITS_INPUT.TXT' AND REMOVE ALL THE NEW LINE SPACES AND SPECIAL CHARACHTERS AND THEN SAVE THE OUTPUT FILE 'FRUITS_OUTPUT.TXT' \n",
    " "
   ]
  },
  {
   "cell_type": "code",
   "execution_count": 12,
   "id": "7483e8bc",
   "metadata": {},
   "outputs": [
    {
     "data": {
      "text/plain": [
       "[\"['Here is the list of fruits: \\\\n', '\\\\n', 'Start of List\\\\n', '\\\\n', 'AÃ§aÃ\\xad\\\\n', 'Apple\\\\n', 'Akee\\\\n', 'Apricot\\\\n', 'Avocado\\\\n', 'Banana\\\\n', 'Bilberry\\\\n', 'Blackberry\\\\n', 'Blackcurrant\\\\n', \\n\",\n",
       " '\\'Black sapote\\\\n\\', \\'Blueberry\\\\n\\', \\'Boysenberry\\\\n\\', \"Buddha\\'s hand (fingered citron)\\\\n\", \\'Crab apples\\\\n\\', \\'Currant\\\\n\\', \\'Cherry\\\\n\\', \\'Cherimoya (Custard Apple)\\\\n\\', \\'Chico fruit\\\\n\\', \\n',\n",
       " \"'Cloudberry\\\\n', 'Coconut\\\\n', 'Cranberry\\\\n', 'Cucumber\\\\n', 'Damson\\\\n', '\\\\n', '\\\\n', 'Date\\\\n', 'Dragonfruit (or Pitaya)\\\\n', 'Durian\\\\n', 'Elderberry\\\\n', 'Feijoa\\\\n', 'Fig\\\\n', 'Goji berry\\\\n',\\n\",\n",
       " \" 'Gooseberry\\\\n', 'Grape\\\\n', '\\\\n', '\\\\n', 'Raisin\\\\n', 'Grapefruit\\\\n', 'Guava\\\\n', 'Honeyberry\\\\n', 'Huckleberry\\\\n', 'Jabuticaba\\\\n', 'Jackfruit\\\\n', 'Jambul\\\\n', 'Japanese plum\\\\n', 'Jostaberry\\\\n',\\n\",\n",
       " \" '\\\\n', '!\\\\n', '\\\\n', 'Jujube\\\\n', 'Juniper berry\\\\n', 'Kiwano (horned melon)\\\\n', 'Kiwifruit\\\\n', 'Kumquat\\\\n', '\\\\n', '%\\\\n', '\\\\n', 'Lemon\\\\n', 'Lime\\\\n', 'Loquat\\\\n', 'Longan\\\\n', 'Lychee\\\\n', \\n\",\n",
       " \"'Mango\\\\n', 'Mangosteen\\\\n', 'Marionberry\\\\n', 'Melon\\\\n', 'Cantaloupe\\\\n', 'Honeydew\\\\n', 'Watermelon\\\\n', 'Miracle fruit\\\\n', 'Mulberry\\\\n', 'Nectarine\\\\n', 'Nance\\\\n', 'Olive\\\\n', 'Orange\\\\n', \\n\",\n",
       " \"'Blood orange\\\\n', 'Clementine\\\\n', 'Mandarine\\\\n', 'Tangerine\\\\n', 'Papaya\\\\n', 'Passionfruit\\\\n', 'Peach\\\\n', 'Pear\\\\n', 'Persimmon\\\\n', 'Plantain\\\\n', 'Plum\\\\n', 'Prune (dried plum)\\\\n', \\n\",\n",
       " \"'Pineapple\\\\n', 'Pineberry\\\\n', 'Plumcot (or Pluot)\\\\n', 'Pomegranate\\\\n', 'Pomelo\\\\n', 'Purple mangosteen\\\\n', 'Quince\\\\n', 'Raspberry\\\\n', 'Salmonberry\\\\n', 'Rambutan (or Mamin Chino)\\\\n', \\n\",\n",
       " \"'Redcurrant\\\\n', 'Salal berry\\\\n', 'Salak\\\\n', 'Satsuma\\\\n', 'Soursop\\\\n', 'Star apple\\\\n', 'Star fruit\\\\n', 'Strawberry\\\\n', 'Surinam cherry\\\\n', 'Tamarillo\\\\n', 'Tamarind\\\\n', 'Ugli fruit\\\\n',\\n\",\n",
       " \" 'White currant\\\\n', 'White sapote\\\\n', 'Yuzu\\\\n', '\\\\n']\"]"
      ]
     },
     "execution_count": 12,
     "metadata": {},
     "output_type": "execute_result"
    }
   ],
   "source": [
    "with open(r\"C:\\Users\\Admin\\FRUITS_INPUT.TXT\",\"r\") as file:\n",
    "    fruits = file.readlines()\n",
    "fruits"
   ]
  },
  {
   "cell_type": "code",
   "execution_count": null,
   "id": "73c312e1",
   "metadata": {},
   "outputs": [],
   "source": [
    "fruits = [char.strip(\"\\n\")     for char in fruits      if \"\\n\" in char]\n",
    "fruits"
   ]
  },
  {
   "cell_type": "code",
   "execution_count": 44,
   "id": "c7010f6c",
   "metadata": {},
   "outputs": [],
   "source": [
    "fruits = [char    for char in fruits       if char !=\"\"]\n",
    "fruits = [char    for char in fruits       if len(char) != 1 ]"
   ]
  },
  {
   "cell_type": "code",
   "execution_count": 45,
   "id": "d35e9f80",
   "metadata": {},
   "outputs": [
    {
     "data": {
      "text/plain": [
       "[\"['Here is the list of fruits: \\\\n', '\\\\n', 'Start of List\\\\n', '\\\\n', 'AÃ§aÃ\\xad\\\\n', 'Apple\\\\n', 'Akee\\\\n', 'Apricot\\\\n', 'Avocado\\\\n', 'Banana\\\\n', 'Bilberry\\\\n', 'Blackberry\\\\n', 'Blackcurrant\\\\n', \",\n",
       " '\\'Black sapote\\\\n\\', \\'Blueberry\\\\n\\', \\'Boysenberry\\\\n\\', \"Buddha\\'s hand (fingered citron)\\\\n\", \\'Crab apples\\\\n\\', \\'Currant\\\\n\\', \\'Cherry\\\\n\\', \\'Cherimoya (Custard Apple)\\\\n\\', \\'Chico fruit\\\\n\\', ',\n",
       " \"'Cloudberry\\\\n', 'Coconut\\\\n', 'Cranberry\\\\n', 'Cucumber\\\\n', 'Damson\\\\n', '\\\\n', '\\\\n', 'Date\\\\n', 'Dragonfruit (or Pitaya)\\\\n', 'Durian\\\\n', 'Elderberry\\\\n', 'Feijoa\\\\n', 'Fig\\\\n', 'Goji berry\\\\n',\",\n",
       " \" 'Gooseberry\\\\n', 'Grape\\\\n', '\\\\n', '\\\\n', 'Raisin\\\\n', 'Grapefruit\\\\n', 'Guava\\\\n', 'Honeyberry\\\\n', 'Huckleberry\\\\n', 'Jabuticaba\\\\n', 'Jackfruit\\\\n', 'Jambul\\\\n', 'Japanese plum\\\\n', 'Jostaberry\\\\n',\",\n",
       " \" '\\\\n', '!\\\\n', '\\\\n', 'Jujube\\\\n', 'Juniper berry\\\\n', 'Kiwano (horned melon)\\\\n', 'Kiwifruit\\\\n', 'Kumquat\\\\n', '\\\\n', '%\\\\n', '\\\\n', 'Lemon\\\\n', 'Lime\\\\n', 'Loquat\\\\n', 'Longan\\\\n', 'Lychee\\\\n', \",\n",
       " \"'Mango\\\\n', 'Mangosteen\\\\n', 'Marionberry\\\\n', 'Melon\\\\n', 'Cantaloupe\\\\n', 'Honeydew\\\\n', 'Watermelon\\\\n', 'Miracle fruit\\\\n', 'Mulberry\\\\n', 'Nectarine\\\\n', 'Nance\\\\n', 'Olive\\\\n', 'Orange\\\\n', \",\n",
       " \"'Blood orange\\\\n', 'Clementine\\\\n', 'Mandarine\\\\n', 'Tangerine\\\\n', 'Papaya\\\\n', 'Passionfruit\\\\n', 'Peach\\\\n', 'Pear\\\\n', 'Persimmon\\\\n', 'Plantain\\\\n', 'Plum\\\\n', 'Prune (dried plum)\\\\n', \",\n",
       " \"'Pineapple\\\\n', 'Pineberry\\\\n', 'Plumcot (or Pluot)\\\\n', 'Pomegranate\\\\n', 'Pomelo\\\\n', 'Purple mangosteen\\\\n', 'Quince\\\\n', 'Raspberry\\\\n', 'Salmonberry\\\\n', 'Rambutan (or Mamin Chino)\\\\n', \",\n",
       " \"'Redcurrant\\\\n', 'Salal berry\\\\n', 'Salak\\\\n', 'Satsuma\\\\n', 'Soursop\\\\n', 'Star apple\\\\n', 'Star fruit\\\\n', 'Strawberry\\\\n', 'Surinam cherry\\\\n', 'Tamarillo\\\\n', 'Tamarind\\\\n', 'Ugli fruit\\\\n',\"]"
      ]
     },
     "execution_count": 45,
     "metadata": {},
     "output_type": "execute_result"
    }
   ],
   "source": [
    "fruits"
   ]
  },
  {
   "cell_type": "code",
   "execution_count": null,
   "id": "42205288",
   "metadata": {},
   "outputs": [],
   "source": []
  },
  {
   "cell_type": "code",
   "execution_count": 13,
   "id": "23fd09df",
   "metadata": {},
   "outputs": [
    {
     "ename": "NameError",
     "evalue": "name 'fuits' is not defined",
     "output_type": "error",
     "traceback": [
      "\u001b[1;31m---------------------------------------------------------------------------\u001b[0m",
      "\u001b[1;31mNameError\u001b[0m                                 Traceback (most recent call last)",
      "Cell \u001b[1;32mIn[13], line 2\u001b[0m\n\u001b[0;32m      1\u001b[0m \u001b[38;5;28;01mwith\u001b[39;00m \u001b[38;5;28mopen\u001b[39m(\u001b[38;5;124m\"\u001b[39m\u001b[38;5;124mfruit_out.txt\u001b[39m\u001b[38;5;124m\"\u001b[39m,\u001b[38;5;124m\"\u001b[39m\u001b[38;5;124mw\u001b[39m\u001b[38;5;124m\"\u001b[39m) \u001b[38;5;28;01mas\u001b[39;00m file:\n\u001b[1;32m----> 2\u001b[0m     \u001b[38;5;28;01mfor\u001b[39;00m char \u001b[38;5;129;01min\u001b[39;00m fuits:\n\u001b[0;32m      3\u001b[0m         file\u001b[38;5;241m.\u001b[39mwrite(char\u001b[38;5;241m+\u001b[39m\u001b[38;5;124m\"\u001b[39m\u001b[38;5;130;01m\\n\u001b[39;00m\u001b[38;5;124m\"\u001b[39m)\n",
      "\u001b[1;31mNameError\u001b[0m: name 'fuits' is not defined"
     ]
    }
   ],
   "source": [
    "with open(\"fruit_out.txt\",\"w\") as file:\n",
    "    for char in fuits:\n",
    "        file.write(char+\"\\n\")"
   ]
  },
  {
   "cell_type": "code",
   "execution_count": null,
   "id": "9d7b0fa4",
   "metadata": {},
   "outputs": [],
   "source": []
  },
  {
   "cell_type": "code",
   "execution_count": null,
   "id": "b84ff726",
   "metadata": {},
   "outputs": [],
   "source": []
  },
  {
   "cell_type": "markdown",
   "id": "712ec319",
   "metadata": {},
   "source": [
    "# BY ANOTHER METHOD USING REGEX (regular expression)"
   ]
  },
  {
   "cell_type": "code",
   "execution_count": 8,
   "id": "8bf5fe70",
   "metadata": {},
   "outputs": [
    {
     "data": {
      "text/plain": [
       "' Here is the list of fruits n n Start of List n n AÃ aÃ n Apple n Akee n Apricot n Avocado n Banana n Bilberry n Blackberry n Blackcurrant n Black sapote n Blueberry n Boysenberry n Buddha s hand fingered citron n Crab apples n Currant n Cherry n Cherimoya Custard Apple n Chico fruit n Cloudberry n Coconut n Cranberry n Cucumber n Damson n n n Date n Dragonfruit or Pitaya n Durian n Elderberry n Feijoa n Fig n Goji berry n Gooseberry n Grape n n n Raisin n Grapefruit n Guava n Honeyberry n Huckleberry n Jabuticaba n Jackfruit n Jambul n Japanese plum n Jostaberry n n n n Jujube n Juniper berry n Kiwano horned melon n Kiwifruit n Kumquat n n n n Lemon n Lime n Loquat n Longan n Lychee n Mango n Mangosteen n Marionberry n Melon n Cantaloupe n Honeydew n Watermelon n Miracle fruit n Mulberry n Nectarine n Nance n Olive n Orange n Blood orange n Clementine n Mandarine n Tangerine n Papaya n Passionfruit n Peach n Pear n Persimmon n Plantain n Plum n Prune dried plum n Pineapple n Pineberry n Plumcot or Pluot n Pomegranate n Pomelo n Purple mangosteen n Quince n Raspberry n Salmonberry n Rambutan or Mamin Chino n Redcurrant n Salal berry n Salak n Satsuma n Soursop n Star apple n Star fruit n Strawberry n Surinam cherry n Tamarillo n Tamarind n Ugli fruit n White currant n White sapote n Yuzu n n '"
      ]
     },
     "execution_count": 8,
     "metadata": {},
     "output_type": "execute_result"
    }
   ],
   "source": [
    "with open(r\"C:\\Users\\Admin\\FRUITS_INPUT.TXT\",\"r\") as file:\n",
    "    fruits = file.readlines()\n",
    "\n",
    "    import re\n",
    "    FRUITS_OUTPUT = re.sub(r'[\\n\\r\\t\\W_]+', ' ', input_text)\n",
    "\n",
    "FRUITS_OUTPUT"
   ]
  },
  {
   "cell_type": "code",
   "execution_count": null,
   "id": "4f2aabb8",
   "metadata": {},
   "outputs": [],
   "source": []
  },
  {
   "cell_type": "markdown",
   "id": "9fd087d1",
   "metadata": {},
   "source": [
    "##  3. READ THE FILE 'FRUITS_INPUT.TXT', REMOVE ALL THE NEW LINE SPACES AND SPECIAL CHARACHTERS, THEN REMOVE ANY LINES THAT DOES NOT REPRESENT A FRUIT, THEN SAVE THE OUTPUT FILE 'FRUITS_OUTPUT.TXT' ¶"
   ]
  },
  {
   "cell_type": "code",
   "execution_count": 24,
   "id": "dcae7c67",
   "metadata": {},
   "outputs": [],
   "source": [
    "with open(r\"C:\\Users\\Admin\\FRUITS_INPUT.TXT\",\"r\") as file:\n",
    "    fruits = file.readlines()\n",
    "    \n",
    "fruits = [word.strip(\"\\n\")     for word in fruits    if \"\\n\" in word]\n",
    "fruits = [word                 for word in fruits    if word !=\"\"   ]\n",
    "fruits = [word                 for word in fruits    if len(word) != 1]\n",
    "fruits = [word                 for word in fruits    if word !=\"End of list\"]\n",
    "fruits = [word                 for word in fruits    if word !=\"Start of list\"]\n",
    "fruits = [word                 for word in fruits    if word != \"Here is the list of fruit \"]\n",
    "\n",
    "with open(\"fruits_out.txt\",\"w\") as file:\n",
    "    for char in fruits:\n",
    "        file.write(char+\"\\n\")\n",
    "        "
   ]
  },
  {
   "cell_type": "code",
   "execution_count": 26,
   "id": "6ab275f6",
   "metadata": {},
   "outputs": [
    {
     "data": {
      "text/plain": [
       "' Here is the list of fruits n n Start of List n n AÃ aÃ n Apple n Akee n Apricot n Avocado n Banana n Bilberry n Blackberry n Blackcurrant n Black sapote n Blueberry n Boysenberry n Buddha s hand fingered citron n Crab apples n Currant n Cherry n Cherimoya Custard Apple n Chico fruit n Cloudberry n Coconut n Cranberry n Cucumber n Damson n n n Date n Dragonfruit or Pitaya n Durian n Elderberry n Feijoa n Fig n Goji berry n Gooseberry n Grape n n n Raisin n Grapefruit n Guava n Honeyberry n Huckleberry n Jabuticaba n Jackfruit n Jambul n Japanese plum n Jostaberry n n n n Jujube n Juniper berry n Kiwano horned melon n Kiwifruit n Kumquat n n n n Lemon n Lime n Loquat n Longan n Lychee n Mango n Mangosteen n Marionberry n Melon n Cantaloupe n Honeydew n Watermelon n Miracle fruit n Mulberry n Nectarine n Nance n Olive n Orange n Blood orange n Clementine n Mandarine n Tangerine n Papaya n Passionfruit n Peach n Pear n Persimmon n Plantain n Plum n Prune dried plum n Pineapple n Pineberry n Plumcot or Pluot n Pomegranate n Pomelo n Purple mangosteen n Quince n Raspberry n Salmonberry n Rambutan or Mamin Chino n Redcurrant n Salal berry n Salak n Satsuma n Soursop n Star apple n Star fruit n Strawberry n Surinam cherry n Tamarillo n Tamarind n Ugli fruit n White currant n White sapote n Yuzu n n '"
      ]
     },
     "execution_count": 26,
     "metadata": {},
     "output_type": "execute_result"
    }
   ],
   "source": [
    "with open('FRUITS_INPUT.TXT', 'r') as input_file, open('FRUITS_OUTPUT.TXT', 'w') as output_file:\n",
    "     for line in input_file: \n",
    "            cleaned_line = re.sub(r'[\\n\\r\\t\\W_]+', ' ', line)\n",
    "        \n",
    "FRUITS_OUTPUT"
   ]
  },
  {
   "cell_type": "code",
   "execution_count": null,
   "id": "505907d4",
   "metadata": {},
   "outputs": [],
   "source": []
  },
  {
   "cell_type": "markdown",
   "id": "d250234b",
   "metadata": {},
   "source": [
    "## 4. READ THE FILE 'FRUITS_INPUT.TXT' AND COMPARE IT TO THE LIST OF FRUITS IN MY_FRUITS, RETURN ONLY MATCHING ELEMNTS"
   ]
  },
  {
   "cell_type": "code",
   "execution_count": 33,
   "id": "bbb7411b",
   "metadata": {},
   "outputs": [
    {
     "name": "stdout",
     "output_type": "stream",
     "text": [
      "[]\n"
     ]
    }
   ],
   "source": [
    "my_fruits = [\"Apple\",\"Pepper\",\"Orange\",\"Watermelon\",\"Tomatoes\"]\n",
    "\n",
    "with open('FRUITS_INPUT.TXT', 'r') as file:\n",
    "    all_fruits = file.readlines()\n",
    "    \n",
    "all_fruits = [char.rstrip(\"\\n\")  for char in all_fruits]\n",
    "selected_fruits = [i         for i in all_fruits          if i in my_fruits]\n",
    "\n",
    "print(selected_fruits)"
   ]
  },
  {
   "cell_type": "code",
   "execution_count": null,
   "id": "6e39de11",
   "metadata": {},
   "outputs": [],
   "source": []
  },
  {
   "cell_type": "markdown",
   "id": "dccd5107",
   "metadata": {},
   "source": [
    "\n",
    "## 5. WRITE A CODE THAT TAKES AN INPUT FROM A USER AND STORE THIS IN A NEW TEXT FILE SEPARATED BY NEW LINES\n"
   ]
  },
  {
   "cell_type": "code",
   "execution_count": 35,
   "id": "36501e94",
   "metadata": {},
   "outputs": [
    {
     "name": "stdout",
     "output_type": "stream",
     "text": [
      "Enter five names: Ram, Krishna ,Hanuman,Radha,Bihari\n"
     ]
    }
   ],
   "source": [
    "Sentence = input(\"Enter five names: \")\n",
    "\n",
    "sentence_list = Sentence.split(\",\")"
   ]
  },
  {
   "cell_type": "code",
   "execution_count": 36,
   "id": "d502b065",
   "metadata": {},
   "outputs": [
    {
     "data": {
      "text/plain": [
       "['Ram', ' Krishna ', 'Hanuman', 'Radha', 'Bihari']"
      ]
     },
     "execution_count": 36,
     "metadata": {},
     "output_type": "execute_result"
    }
   ],
   "source": [
    "sentence_list"
   ]
  },
  {
   "cell_type": "code",
   "execution_count": null,
   "id": "399f6718",
   "metadata": {},
   "outputs": [],
   "source": [
    "with open[\"names_out_file.txt\",\"a\"] as file:\n",
    "    for word in sentence_list:\n",
    "        file.write(word +\"\\n\")"
   ]
  },
  {
   "cell_type": "code",
   "execution_count": null,
   "id": "51b25224",
   "metadata": {},
   "outputs": [],
   "source": []
  },
  {
   "cell_type": "markdown",
   "id": "117634b6",
   "metadata": {},
   "source": [
    "## 6. READ THE CSV FILE \"S&P500_Stock_Data.CSV\" AND PRINT OUT THE (1) HEADING, (2) FIRST 5 ROWS OF DATA"
   ]
  },
  {
   "cell_type": "code",
   "execution_count": null,
   "id": "ab5293fd",
   "metadata": {},
   "outputs": [],
   "source": [
    "import csv\n",
    "with open(\"S&P500_Stock_Data.CSV\",\"r\") as csvfile:\n",
    "    readCSV = csv.reader(csvfile, delimiter=',')\n",
    "    stock = list(readCSV)\n",
    "    \n",
    "print(stock)"
   ]
  },
  {
   "cell_type": "code",
   "execution_count": null,
   "id": "a1737302",
   "metadata": {},
   "outputs": [],
   "source": []
  },
  {
   "cell_type": "markdown",
   "id": "3610ff46",
   "metadata": {},
   "source": [
    "## 7. WRITE A CODE THAT TAKES SEVERAL INPUTS FROM A USER AS LONG AS THE USER DOES NOT ENTER \"STOP\". THE DATA IS THEN SAVED TO AN OUTPUT FILE"
   ]
  },
  {
   "cell_type": "code",
   "execution_count": 41,
   "id": "5411e9b2",
   "metadata": {},
   "outputs": [
    {
     "name": "stdout",
     "output_type": "stream",
     "text": [
      "Enter somthing: kjdf\n",
      "Enter somthing: djf\n",
      "Enter somthing: dkfj'\n",
      "Enter somthing: dkf\n",
      "Enter somthing: STOP\n"
     ]
    }
   ],
   "source": [
    "file = open(\"output_user_data.txt\",\"a\")\n",
    "\n",
    "\n",
    "while True:\n",
    "    sentence = input(\"Enter somthing: \")\n",
    "    if sentence == \"STOP\":\n",
    "        file.close()\n",
    "        break\n",
    "    else:\n",
    "        file.write(sentence + \"\\n\")"
   ]
  },
  {
   "cell_type": "code",
   "execution_count": null,
   "id": "b1b447a9",
   "metadata": {},
   "outputs": [],
   "source": []
  },
  {
   "cell_type": "markdown",
   "id": "0eea05a4",
   "metadata": {},
   "source": [
    "## 8. WRITE A CODE THAT SEARCHES FOR ALL TEXT FILES ON YOUR COMPUTER AND PRINT OUT ALL FILES AND THEIR PATH\n"
   ]
  },
  {
   "cell_type": "code",
   "execution_count": null,
   "id": "af4a93e4",
   "metadata": {},
   "outputs": [],
   "source": [
    "import fnmatch\n",
    "import os\n",
    "path = os.getcwd()\n",
    "\n",
    "for root, directories,files in os.walk(path):\n",
    "    for filename in fnmatch.filter(files,\"*.txt\"):\n",
    "        print(os.path.join(root,filename))"
   ]
  },
  {
   "cell_type": "code",
   "execution_count": null,
   "id": "e3697e8e",
   "metadata": {},
   "outputs": [],
   "source": []
  },
  {
   "cell_type": "markdown",
   "id": "311dbc5d",
   "metadata": {},
   "source": [
    "## 9. WRITE A CODE THAT WILL SEARCH FOR IMAGES ON YOUR COMPUTER AND RETURNS A LIST OF ALL IMAGES (EXERNAL RESEARCH OS.WALK)\n"
   ]
  },
  {
   "cell_type": "code",
   "execution_count": null,
   "id": "25ea2485",
   "metadata": {},
   "outputs": [],
   "source": [
    "import fnmatch\n",
    "import os\n",
    "\n",
    "found_images = []\n",
    "path = r'C:\\User\\asd\\Desktop'\n",
    "\n",
    "image_extensions =['*.jpg','*.jpeg']\n",
    "\n",
    "for root, directories,files in os.walk(path):\n",
    "    for i in image_extensions:\n",
    "        for filename fnmatch.filter(files,i):\n",
    "            print(os.path.join(root,filename))"
   ]
  },
  {
   "cell_type": "code",
   "execution_count": null,
   "id": "2db6cc65",
   "metadata": {},
   "outputs": [],
   "source": []
  },
  {
   "cell_type": "code",
   "execution_count": null,
   "id": "50b0071c",
   "metadata": {},
   "outputs": [],
   "source": []
  },
  {
   "cell_type": "code",
   "execution_count": null,
   "id": "dd945e93",
   "metadata": {},
   "outputs": [],
   "source": []
  },
  {
   "cell_type": "code",
   "execution_count": null,
   "id": "4716f007",
   "metadata": {},
   "outputs": [],
   "source": []
  },
  {
   "cell_type": "code",
   "execution_count": null,
   "id": "e3685ca4",
   "metadata": {},
   "outputs": [],
   "source": []
  },
  {
   "cell_type": "code",
   "execution_count": null,
   "id": "d9a44395",
   "metadata": {},
   "outputs": [],
   "source": []
  },
  {
   "cell_type": "code",
   "execution_count": null,
   "id": "f9f359ed",
   "metadata": {},
   "outputs": [],
   "source": []
  },
  {
   "cell_type": "code",
   "execution_count": null,
   "id": "e508e39c",
   "metadata": {},
   "outputs": [],
   "source": []
  }
 ],
 "metadata": {
  "kernelspec": {
   "display_name": "Python 3 (ipykernel)",
   "language": "python",
   "name": "python3"
  },
  "language_info": {
   "codemirror_mode": {
    "name": "ipython",
    "version": 3
   },
   "file_extension": ".py",
   "mimetype": "text/x-python",
   "name": "python",
   "nbconvert_exporter": "python",
   "pygments_lexer": "ipython3",
   "version": "3.11.4"
  }
 },
 "nbformat": 4,
 "nbformat_minor": 5
}
