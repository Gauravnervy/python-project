{
 "cells": [
  {
   "cell_type": "markdown",
   "id": "9b89c002",
   "metadata": {},
   "source": [
    "# PROJECT 1"
   ]
  },
  {
   "cell_type": "markdown",
   "id": "9daa9046",
   "metadata": {},
   "source": [
    "### 1). \tWrite a program which contains one function named as Fun(). That function should display “Hello from Fun” on console "
   ]
  },
  {
   "cell_type": "code",
   "execution_count": 1,
   "id": "11982933",
   "metadata": {},
   "outputs": [
    {
     "name": "stdout",
     "output_type": "stream",
     "text": [
      "Hello from Fun\n"
     ]
    }
   ],
   "source": [
    "def fun():\n",
    "    print(\"Hello from Fun\")\n",
    "    \n",
    "fun()"
   ]
  },
  {
   "cell_type": "markdown",
   "id": "84a8480e",
   "metadata": {},
   "source": [
    "### 2). \tWrite a program which contains one function named as ChkNum () which accept one parameter as number. If number is even then it should display “Even number” otherwise display “Odd number” on console.\n",
    "\n"
   ]
  },
  {
   "cell_type": "code",
   "execution_count": 5,
   "id": "c4df0bb7",
   "metadata": {},
   "outputs": [
    {
     "name": "stdout",
     "output_type": "stream",
     "text": [
      "Odd number\n"
     ]
    }
   ],
   "source": [
    "def ChkNum(number):\n",
    "    if number %2==0:\n",
    "        print(\"Even number\")\n",
    "    else:\n",
    "        print(\"Odd number\")\n",
    "        \n",
    "        \n",
    "ChkNum(37)\n",
    "    "
   ]
  },
  {
   "cell_type": "markdown",
   "id": "3c490609",
   "metadata": {},
   "source": [
    "### 3).\tWrite a program which contains one function named as Add () which accepts two numbers from user and return addition of that two numbers"
   ]
  },
  {
   "cell_type": "code",
   "execution_count": 15,
   "id": "1193c36d",
   "metadata": {},
   "outputs": [
    {
     "name": "stdout",
     "output_type": "stream",
     "text": [
      "Enter first number:  4\n",
      "Enter second number:  4\n"
     ]
    },
    {
     "data": {
      "text/plain": [
       "8"
      ]
     },
     "execution_count": 15,
     "metadata": {},
     "output_type": "execute_result"
    }
   ],
   "source": [
    "def add():\n",
    "    num1 = int(input(\"Enter first number:  \"))\n",
    "    num2 = int(input(\"Enter second number:  \"))\n",
    "    return  num1+num2\n",
    "\n",
    "add()"
   ]
  },
  {
   "cell_type": "markdown",
   "id": "6112ecac",
   "metadata": {},
   "source": [
    "### 4). \tWrite a program which display 5 times Marvelous on screen."
   ]
  },
  {
   "cell_type": "code",
   "execution_count": 16,
   "id": "409a4499",
   "metadata": {},
   "outputs": [
    {
     "name": "stdout",
     "output_type": "stream",
     "text": [
      "Marvelous\n",
      "Marvelous\n",
      "Marvelous\n",
      "Marvelous\n",
      "Marvelous\n"
     ]
    }
   ],
   "source": [
    "def display_marvelous(n):\n",
    "    if n > 0:\n",
    "        print(\"Marvelous\")\n",
    "        display_marvelous(n - 1)\n",
    "\n",
    "\n",
    "display_marvelous(5)\n"
   ]
  },
  {
   "cell_type": "code",
   "execution_count": 19,
   "id": "f235024f",
   "metadata": {},
   "outputs": [
    {
     "name": "stdout",
     "output_type": "stream",
     "text": [
      "Marvelous\n",
      "Marvelous\n",
      "Marvelous\n",
      "Marvelous\n",
      "Marvelous\n"
     ]
    }
   ],
   "source": [
    "# Using a for loop to display \"Marvelous\" 5 times\n",
    "for _ in range(5):\n",
    "    print(\"Marvelous\")\n"
   ]
  },
  {
   "cell_type": "markdown",
   "id": "59ff4e19",
   "metadata": {},
   "source": [
    "### 5).\tWrite a program which display 10 to 1 on screen."
   ]
  },
  {
   "cell_type": "code",
   "execution_count": 22,
   "id": "b1620e96",
   "metadata": {},
   "outputs": [
    {
     "name": "stdout",
     "output_type": "stream",
     "text": [
      "10\n",
      "9\n",
      "8\n",
      "7\n",
      "6\n",
      "5\n",
      "4\n",
      "3\n",
      "2\n",
      "1\n"
     ]
    }
   ],
   "source": [
    "# Using a for loop to display numbers from 10 to 1\n",
    "for i in range(10, 0, -1):\n",
    "    print(i)\n"
   ]
  },
  {
   "cell_type": "markdown",
   "id": "c69853aa",
   "metadata": {},
   "source": [
    "### 6).\tWrite a program which accept number from user and check whether that number is positive or negative or zero.\n",
    "\n"
   ]
  },
  {
   "cell_type": "code",
   "execution_count": 5,
   "id": "97f87885",
   "metadata": {},
   "outputs": [
    {
     "name": "stdout",
     "output_type": "stream",
     "text": [
      "Enter a nnumber : -10\n",
      "Number is negative\n"
     ]
    }
   ],
   "source": [
    "x = float(input(\"Enter a nnumber : \"))\n",
    "if x > 0:\n",
    "    print(\"Positive number\")\n",
    "\n",
    "elif x == 0:\n",
    "    print(\"Zero\")\n",
    "else:\n",
    "    print(\"Number is negative\")"
   ]
  },
  {
   "cell_type": "markdown",
   "id": "4455a260",
   "metadata": {},
   "source": [
    "### 7).\tWrite a program which contains one function that accept one number from user and returns true if number is divisible by 5 otherwise return false.\n",
    "\n"
   ]
  },
  {
   "cell_type": "code",
   "execution_count": 13,
   "id": "8c5eeccc",
   "metadata": {},
   "outputs": [
    {
     "name": "stdout",
     "output_type": "stream",
     "text": [
      "Enter the number: 4\n"
     ]
    },
    {
     "data": {
      "text/plain": [
       "'false'"
      ]
     },
     "execution_count": 13,
     "metadata": {},
     "output_type": "execute_result"
    }
   ],
   "source": [
    "def cheker():\n",
    "    num = float(input(\"Enter the number: \"))\n",
    "    if num % 5 == 0:\n",
    "        return \"true\"\n",
    "    else:\n",
    "        return \"false\"\n",
    "cheker()"
   ]
  },
  {
   "cell_type": "markdown",
   "id": "dc062384",
   "metadata": {},
   "source": [
    "### 8).\tWrite a program which accept number from user and print that number of “*” on scree"
   ]
  },
  {
   "cell_type": "code",
   "execution_count": 1,
   "id": "533a8d6a",
   "metadata": {},
   "outputs": [
    {
     "name": "stdout",
     "output_type": "stream",
     "text": [
      "Enter the number: -4\n",
      "Enter a positive number\n",
      "Enter the number: 45\n",
      "*********************************************\n"
     ]
    }
   ],
   "source": [
    "def printer():\n",
    "    num = int(input(\"Enter the number: \"))\n",
    "    if num < 0 :\n",
    "        print(\"Enter a positive number\")\n",
    "    else:\n",
    "        print(\"*\" * num)\n",
    "        \n",
    "printer()\n",
    "printer()"
   ]
  },
  {
   "cell_type": "markdown",
   "id": "bff4d775",
   "metadata": {},
   "source": [
    "### 9).\tWrite a program which display first 10 even numbers on screen.\n",
    "\n"
   ]
  },
  {
   "cell_type": "code",
   "execution_count": null,
   "id": "ab4486c7",
   "metadata": {},
   "outputs": [],
   "source": [
    "for i in range"
   ]
  },
  {
   "cell_type": "code",
   "execution_count": 2,
   "id": "b76f8bb9",
   "metadata": {},
   "outputs": [
    {
     "name": "stdout",
     "output_type": "stream",
     "text": [
      "0\n",
      "2\n",
      "4\n",
      "6\n",
      "8\n",
      "10\n",
      "12\n",
      "14\n",
      "16\n",
      "18\n"
     ]
    }
   ],
   "source": [
    "even_count = 0\n",
    "number = 0\n",
    "\n",
    "while even_count < 10:\n",
    "    if number % 2 == 0:\n",
    "        print(number)\n",
    "        even_count += 1\n",
    "        number += 2\n"
   ]
  },
  {
   "cell_type": "markdown",
   "id": "7a4b70e6",
   "metadata": {},
   "source": [
    "### 10).\tWrite a program which accept name from user and display length of its name"
   ]
  },
  {
   "cell_type": "code",
   "execution_count": 5,
   "id": "a6127895",
   "metadata": {},
   "outputs": [
    {
     "name": "stdout",
     "output_type": "stream",
     "text": [
      "Enter your name:  Gaurav\n",
      "6\n"
     ]
    }
   ],
   "source": [
    "name = input(\"Enter your name:  \")\n",
    "print(len(name))"
   ]
  },
  {
   "cell_type": "code",
   "execution_count": null,
   "id": "90354255",
   "metadata": {},
   "outputs": [],
   "source": []
  }
 ],
 "metadata": {
  "kernelspec": {
   "display_name": "Python 3 (ipykernel)",
   "language": "python",
   "name": "python3"
  },
  "language_info": {
   "codemirror_mode": {
    "name": "ipython",
    "version": 3
   },
   "file_extension": ".py",
   "mimetype": "text/x-python",
   "name": "python",
   "nbconvert_exporter": "python",
   "pygments_lexer": "ipython3",
   "version": "3.11.4"
  }
 },
 "nbformat": 4,
 "nbformat_minor": 5
}
