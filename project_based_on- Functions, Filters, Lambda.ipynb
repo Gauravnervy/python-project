{
 "cells": [
  {
   "cell_type": "markdown",
   "metadata": {},
   "source": [
    "\n",
    "## <font color='red'> FUNCTIONS, FILTERS AND LAMBDA EXPRESSIONS  </font> "
   ]
  },
  {
   "cell_type": "code",
   "execution_count": null,
   "metadata": {},
   "outputs": [],
   "source": [
    "# Question 1"
   ]
  },
  {
   "cell_type": "code",
   "execution_count": 7,
   "metadata": {},
   "outputs": [
    {
     "name": "stdout",
     "output_type": "stream",
     "text": [
      "Enter a number:  4\n",
      "The square of 4.0 is 16.0\n"
     ]
    }
   ],
   "source": [
    "def square():\n",
    "    \n",
    "    try:\n",
    "        \n",
    "        num = float(input(\"Enter a number:  \"))\n",
    "        squre_1 = num ** 2\n",
    "\n",
    "        print(\"The square of {} is {}\".format(num, squre_1))\n",
    "\n",
    "    except ValueError:\n",
    "            print(\"Invalid input. please enter a valid number.\")\n",
    "\n",
    "square()\n",
    "    \n"
   ]
  },
  {
   "cell_type": "markdown",
   "metadata": {},
   "source": [
    "# <font color='blue'> 2. WRITE A FUNCTION THAT TAKES 2 VARIABLE AND OBTAIN THE SUMMATION AND MULTIPLICATION, THEN TEST THE FUNCTION BY TAKING AN INPUT FROM A USER (REPEAT USING LAMBDA EXPRESSIONS)"
   ]
  },
  {
   "cell_type": "markdown",
   "metadata": {},
   "source": [
    "# LAMBDA"
   ]
  },
  {
   "cell_type": "code",
   "execution_count": 2,
   "metadata": {},
   "outputs": [],
   "source": []
  },
  {
   "cell_type": "code",
   "execution_count": 15,
   "metadata": {},
   "outputs": [
    {
     "name": "stdout",
     "output_type": "stream",
     "text": [
      "Enter the first number: 8\n",
      "Enter the second number: 8\n",
      "sum: 16.0, muliplication: 64.0\n",
      "Enter the third number: 8\n",
      "Enter the forth number: 8\n",
      "sum (LAMBDA): 16.0,multiplication (LAMBDA): 64.0\n"
     ]
    }
   ],
   "source": [
    "def function_1(a,b):\n",
    "    summation =   a + b\n",
    "    multiplication = a * b\n",
    "    return summation, multiplication\n",
    "\n",
    "function_1_lambda = lambda a,b: (a + b, a * b)\n",
    "\n",
    "num1 =float(input(\"Enter the first number: \"))\n",
    "num2 =float(input(\"Enter the second number: \"))\n",
    "sum_, multiply_ = function_1(num1, num2)\n",
    "print(\"sum: {}, muliplication: {}\".format(sum_ , multiply_)) \n",
    "\n",
    "num3 = float(input(\"Enter the third number: \"))\n",
    "num4 = float(input(\"Enter the forth number: \"))\n",
    "sum_3, multiply_4 = function_1_lambda(num3,num4)\n",
    "print(\"sum (LAMBDA): {},multiplication (LAMBDA): {}\".format(sum_3,multiply_4))"
   ]
  },
  {
   "cell_type": "code",
   "execution_count": null,
   "metadata": {},
   "outputs": [],
   "source": []
  },
  {
   "cell_type": "markdown",
   "metadata": {},
   "source": [
    "#  <font color='blue'>3. WRITE A FUNCTION THAT TAKES A VARIABLE AND RETURNS ITS FACTORIAL </font> "
   ]
  },
  {
   "cell_type": "code",
   "execution_count": null,
   "metadata": {},
   "outputs": [],
   "source": []
  },
  {
   "cell_type": "code",
   "execution_count": 38,
   "metadata": {},
   "outputs": [
    {
     "name": "stdout",
     "output_type": "stream",
     "text": [
      "Enter the number4\n",
      "the factorial of 4 is 24\n"
     ]
    }
   ],
   "source": [
    "def factorial(n):\n",
    "    if n == 0 or n == 1:\n",
    "        return 1\n",
    "    else:\n",
    "        return  n * factorial(n-1)\n",
    "a = int(input(\"Enter the number\"))\n",
    "result = factorial(a)\n",
    "print(\"the factorial of {} is {}\".format(a,result))"
   ]
  },
  {
   "cell_type": "code",
   "execution_count": null,
   "metadata": {},
   "outputs": [],
   "source": []
  },
  {
   "cell_type": "code",
   "execution_count": null,
   "metadata": {},
   "outputs": [],
   "source": []
  },
  {
   "cell_type": "markdown",
   "metadata": {},
   "source": [
    "# <font color='blue'> 4. DEVELOP A SCRIPT WHOSE ITEMS ARE SQUARES OF THE ORIGINAL LIST </font> "
   ]
  },
  {
   "cell_type": "code",
   "execution_count": null,
   "metadata": {},
   "outputs": [],
   "source": [
    "def square_list(numbers):\n",
    "    squared_values = [num ** 2 for num in numbers]\n",
    "    return squared_values\n",
    "\n",
    "# Test the square_list function\n",
    "original_list = [1, 2, 3, 4, 5]\n",
    "squared_list = square_list(original_list)\n",
    "print(f\"Original List: {original_list}\")\n",
    "print(f\"Squared List: {squared_list}\")\n"
   ]
  },
  {
   "cell_type": "code",
   "execution_count": null,
   "metadata": {},
   "outputs": [],
   "source": []
  },
  {
   "cell_type": "markdown",
   "metadata": {},
   "source": [
    "# <font color='blue'> 5. WRITE A FUNCTION THAT SQUARES A VARIABLE AND THEN TEST THE FUNCTION USING A LIST OF INTEGER NUMBERS RANGING FROM -20 to 20"
   ]
  },
  {
   "cell_type": "code",
   "execution_count": 18,
   "metadata": {},
   "outputs": [
    {
     "name": "stdout",
     "output_type": "stream",
     "text": [
      "The square of -20 is 400\n",
      "The square of -19 is 361\n",
      "The square of -18 is 324\n",
      "The square of -17 is 289\n",
      "The square of -16 is 256\n",
      "The square of -15 is 225\n",
      "The square of -14 is 196\n",
      "The square of -13 is 169\n",
      "The square of -12 is 144\n",
      "The square of -11 is 121\n",
      "The square of -10 is 100\n",
      "The square of -9 is 81\n",
      "The square of -8 is 64\n",
      "The square of -7 is 49\n",
      "The square of -6 is 36\n",
      "The square of -5 is 25\n",
      "The square of -4 is 16\n",
      "The square of -3 is 9\n",
      "The square of -2 is 4\n",
      "The square of -1 is 1\n",
      "The square of 0 is 0\n",
      "The square of 1 is 1\n",
      "The square of 2 is 4\n",
      "The square of 3 is 9\n",
      "The square of 4 is 16\n",
      "The square of 5 is 25\n",
      "The square of 6 is 36\n",
      "The square of 7 is 49\n",
      "The square of 8 is 64\n",
      "The square of 9 is 81\n",
      "The square of 10 is 100\n",
      "The square of 11 is 121\n",
      "The square of 12 is 144\n",
      "The square of 13 is 169\n",
      "The square of 14 is 196\n",
      "The square of 15 is 225\n",
      "The square of 16 is 256\n",
      "The square of 17 is 289\n",
      "The square of 18 is 324\n",
      "The square of 19 is 361\n"
     ]
    }
   ],
   "source": [
    "def square(n):\n",
    "    return    n**2\n",
    "    \n",
    "list_1 = list(range(-20,20))    \n",
    "square_result = [square(num) for num in list_1]\n",
    "\n",
    "for num, squared in zip(list_1, square_result):\n",
    "    print(\"The square of {} is {}\".format(num,squared))"
   ]
  },
  {
   "cell_type": "raw",
   "metadata": {},
   "source": []
  },
  {
   "cell_type": "code",
   "execution_count": null,
   "metadata": {},
   "outputs": [],
   "source": []
  },
  {
   "cell_type": "markdown",
   "metadata": {},
   "source": [
    "# <font color='blue'> 6. WRITE 3 FUNCTIONS THAT TAKE THE RADIUS OF A CIRCLE AND RETURN THE DIAMETER, AREA AND CIRCUMFERENCE, TEST THE FUNCTION USING AN INPUT FROM A USER "
   ]
  },
  {
   "cell_type": "code",
   "execution_count": 6,
   "metadata": {},
   "outputs": [
    {
     "name": "stdout",
     "output_type": "stream",
     "text": [
      "ENTER THE RADIUS OF CIRCLE:  5\n",
      "radius = 5.0\n",
      "area = 78.53981633974483\n",
      "diameter = 10.0\n",
      "circumference = 31.41592653589793\n"
     ]
    }
   ],
   "source": [
    "import math\n",
    "\n",
    "    return 2 * radius\n",
    "\n",
    "def cal_area(radius):\n",
    "    return math.pi * radius ** 2\n",
    "\n",
    "def cal_circumference(radius):\n",
    "    return 2 * math.pi * radius\n",
    "radius = float (input(\"ENTER THE RADIUS OF CIRCLE:  \"))\n",
    "\n",
    "diameter = cal_diameter(radius)\n",
    "area = cal_area(radius)\n",
    "circumference = cal_circumference(radius)\n",
    "\n",
    "print(\"radius = {}\".format(radius))\n",
    "print(\"area = {}\".format(area))\n",
    "print(\"diameter = {}\".format(diameter))\n",
    "print(\"circumference = {}\".format(circumference))\n",
    "    \n"
   ]
  },
  {
   "cell_type": "code",
   "execution_count": null,
   "metadata": {},
   "outputs": [],
   "source": []
  },
  {
   "cell_type": "markdown",
   "metadata": {},
   "source": [
    "# <font color='blue'> 7. WRITE A CODE THAT TAKES A RANGE FROM A USER (UPPER AND LOWER BOUND) AND RETURNS A LIST OF POSITIVE AND EVEN NUMBERS ONLY"
   ]
  },
  {
   "cell_type": "code",
   "execution_count": 2,
   "metadata": {},
   "outputs": [
    {
     "name": "stdout",
     "output_type": "stream",
     "text": [
      "Enter the lower bound: 4\n",
      "Enter the upper bound: 44\n",
      "positive even number: [4, 6, 8, 10, 12, 14, 16, 18, 20, 22, 24, 26, 28, 30, 32, 34, 36, 38, 40, 42, 44]\n"
     ]
    }
   ],
   "source": [
    "def function_1(lower, upper):\n",
    "    even_num =[]\n",
    "    for i in range(lower,upper+1):\n",
    "        if i > 0 and i%2 == 0:\n",
    "            even_num.append(i)\n",
    "    return even_num\n",
    "\n",
    "try:\n",
    "    lower_bound = int(input(\"Enter the lower bound: \"))\n",
    "    upper_bound = int(input(\"Enter the upper bound: \"))\n",
    "    \n",
    "    if lower_bound > upper_bound:\n",
    "        print(\"Lower bound should be less than or equal to upper bound.\")\n",
    "    elif lower_bound == upper_bound:\n",
    "        print(\"you are not allow taking same value of both the bound  \")\n",
    "    else:\n",
    "        p_even_num = function_1(lower_bound,upper_bound)\n",
    "        print(\"positive even number: {}\".format(p_even_num))\n",
    "except ValueError:\n",
    "    print(\"Invalid input. please enter intger value\")\n",
    "    "
   ]
  },
  {
   "cell_type": "markdown",
   "metadata": {},
   "source": [
    "# <font color='blue'> 8. USING FILTER AND LAMBDA EXPRESSION, WRITE A CODE THAT TAKES A LIST OF NUMBERS BELOW AND RETURNS EVEN NUMBERS ONLY"
   ]
  },
  {
   "cell_type": "code",
   "execution_count": 18,
   "metadata": {},
   "outputs": [
    {
     "name": "stdout",
     "output_type": "stream",
     "text": [
      "Even numbers: [2, 44, 66, 88, 224, 26, 8, 10]\n"
     ]
    }
   ],
   "source": [
    "numbers = [2,11,33,44,55,66,77,88,224,26,55,8,10]\n",
    "\n",
    "even_num = list(filter(lambda x: x % 2 == 0, numbers))\n",
    "\n",
    "print(\"Even numbers: {}\".format(even_num))\n"
   ]
  },
  {
   "cell_type": "markdown",
   "metadata": {},
   "source": [
    "# <font color='blue'> 9. WRITE A FUNCTION THAT TAKES TWO NUMPY MATRICES AND RETURN THE ADDITION, SUBTRACTION, TRANSPOSE, PRODUCT, DOT PRODUCT"
   ]
  },
  {
   "cell_type": "code",
   "execution_count": 40,
   "metadata": {},
   "outputs": [
    {
     "name": "stdout",
     "output_type": "stream",
     "text": [
      "Matrix addition:\n",
      " [[ 6  8]\n",
      " [10 12]]\n",
      "\n",
      "Matrix Subtraction:\n",
      " [[-4 -4]\n",
      " [-4 -4]]\n",
      "\n",
      "Transpose of Matrix 1:\n",
      " [[1 3]\n",
      " [2 4]]\n",
      "\n",
      "Transpose of Matrix 2:\n",
      " [[5 7]\n",
      " [6 8]]\n",
      "\n",
      "Element-wise Product:\n",
      " [[ 5 12]\n",
      " [21 32]]\n",
      "\n",
      "Dot Product:\n",
      " [[19 22]\n",
      " [43 50]]\n"
     ]
    }
   ],
   "source": [
    "import numpy as np\n",
    "\n",
    "def matrix(matrix_1,matrix_2):\n",
    "    addition = matrix_1 + matrix_2\n",
    "    substraction = matrix_1 - matrix_2\n",
    "    transpose_1 = np.transpose(matrix_1)\n",
    "    transpose_2 = np.transpose(matrix_2)\n",
    "    product = matrix_1 * matrix_2\n",
    "    dot_product = np.dot(matrix_1,matrix_2)\n",
    "    \n",
    "    return addition, substraction, transpose_1, transpose_2 , product ,dot_product\n",
    "\n",
    "matrix_x = np.array([[1,2], [3,4]])\n",
    "matrix_y = np.array([[5,6], [7,8]])\n",
    "\n",
    "addition, substraction, transpose_1, transpose_2 , product ,dot_product = matrix(matrix_x, matrix_y)\n",
    "print(\"Matrix addition:\\n {}\".format(addition))\n",
    "print(\"\\nMatrix Subtraction:\\n {}\".format(subtraction))\n",
    "print(\"\\nTranspose of Matrix 1:\\n {}\" .format(transpose1))\n",
    "print(\"\\nTranspose of Matrix 2:\\n {}\".format(transpose2))\n",
    "print(\"\\nElement-wise Product:\\n {}\".format(elementwise_product))\n",
    "print(\"\\nDot Product:\\n {}\".format(dot_product))      "
   ]
  },
  {
   "cell_type": "markdown",
   "metadata": {},
   "source": [
    "# <font color='blue'> 10. WRITE A FUNCTION THAT TAKES TWO VALUES FROM A USER AND SUM THEM UP. IF NO VALUES ARE PROVIDED, ASSUME DEFAULT VALUES OF 3 AND 5"
   ]
  },
  {
   "cell_type": "code",
   "execution_count": 49,
   "metadata": {},
   "outputs": [
    {
     "name": "stdout",
     "output_type": "stream",
     "text": [
      "Enter the first value (or default): \n",
      "sum (using default values): 8\n"
     ]
    }
   ],
   "source": [
    "def summition(x=3,y=5):\n",
    "    return x+y\n",
    "try:\n",
    "    value_1 = float(input(\"Enter the first value (or default): \"))\n",
    "    value_2 = float(input(\"Enter the second value (or default): \"))\n",
    "except ValueError:\n",
    "    value_1 = None\n",
    "    value_2 = None\n",
    "    \n",
    "if value_1 is not None and value_2 is not None:\n",
    "    result = summition(value_1 , value_2)\n",
    "    print(\"sum:\",result)\n",
    "    \n",
    "else:\n",
    "    result_2 = summition()\n",
    "    print(\"sum (using default values):\", result_2)"
   ]
  },
  {
   "cell_type": "markdown",
   "metadata": {},
   "source": [
    "# <font color='blue'> 11. WRITE A SCRIPT THAT WILL PROMPT A USER FOR A RANGE (MIN/MAX VALUE) AND RETURNS NUMBERS THAT ARE DIVISIBLE BY 4 BUT ARE NOT MULTIPLES OF 3 "
   ]
  },
  {
   "cell_type": "code",
   "execution_count": 57,
   "metadata": {},
   "outputs": [
    {
     "name": "stdout",
     "output_type": "stream",
     "text": [
      "Enter the minimum value: 4\n",
      "Enter the maximum value: 100\n",
      "Numbers divisible by 4 but not multiples of 3 [4, 8, 16, 20, 28, 32, 40, 44, 52, 56, 64, 68, 76, 80, 88, 92, 100]:\n"
     ]
    }
   ],
   "source": [
    "def numbers(min_value, max_value):\n",
    "    filtered_numbers = []\n",
    "    for num in range(min_value, max_value + 1):\n",
    "        if num % 4 == 0 and num % 3 != 0:\n",
    "            filtered_numbers.append(num)\n",
    "    return filtered_numbers\n",
    "\n",
    "try:\n",
    "    min_range = int(input(\"Enter the minimum value: \"))\n",
    "    max_range = int(input(\"Enter the maximum value: \"))\n",
    "    \n",
    "    if min_range > max_range:\n",
    "        print(\"Minimum value should be less than or equal to maximum value.\")\n",
    "    else:\n",
    "        result = numbers(min_range, max_range)\n",
    "        print(\"Numbers divisible by 4 but not multiples of 3 {}:\".format(result))\n",
    "except ValueError:\n",
    "    print(\"Invalid input. Please enter valid integers for the range.\")\n"
   ]
  },
  {
   "cell_type": "markdown",
   "metadata": {},
   "source": [
    "# <font color='blue'> 12. DEFINE AN ENGLISH TO FRENCH TRANSLATOR FUNCTION THAT TAKES AN INPUT FROM A USER AND RETURNS THE TRANSLATION, USE ANY 5 KNOWN WORDS"
   ]
  },
  {
   "cell_type": "code",
   "execution_count": null,
   "metadata": {},
   "outputs": [],
   "source": [
    "def translator(word):\n",
    "    translations = {\n",
    "        \"hello\": \"bonjour\",\n",
    "        \"goodbye\": \"au revoir\",\n",
    "        \"cat\": \"chat\",\n",
    "        \"dog\": \"chien\",\n",
    "        \"apple\": \"pomme\"\n",
    "    }\n",
    "    \n",
    "    return translations.get(word, \"Translation not found\")\n",
    "\n",
    "try:\n",
    "    user_input = input(\"Enter a word in English: \")\n",
    "    translation = translator(user_input.lower())\n",
    "    print(\"Translation:\", translation)\n",
    "except KeyError:\n",
    "    print(\"Word not found in the dictionary.\")\n"
   ]
  },
  {
   "cell_type": "code",
   "execution_count": null,
   "metadata": {},
   "outputs": [],
   "source": []
  }
 ],
 "metadata": {
  "kernelspec": {
   "display_name": "Python 3 (ipykernel)",
   "language": "python",
   "name": "python3"
  },
  "language_info": {
   "codemirror_mode": {
    "name": "ipython",
    "version": 3
   },
   "file_extension": ".py",
   "mimetype": "text/x-python",
   "name": "python",
   "nbconvert_exporter": "python",
   "pygments_lexer": "ipython3",
   "version": "3.11.4"
  }
 },
 "nbformat": 4,
 "nbformat_minor": 2
}
